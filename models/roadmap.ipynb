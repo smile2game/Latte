{
 "cells": [
  {
   "cell_type": "markdown",
   "id": "25693e53",
   "metadata": {},
   "source": [
    "# Latte-MoE"
   ]
  },
  {
   "cell_type": "markdown",
   "id": "6c612dc6",
   "metadata": {},
   "source": [
    "需要一些策略来确保预训练权重的价值得以保留"
   ]
  }
 ],
 "metadata": {
  "language_info": {
   "name": "python"
  }
 },
 "nbformat": 4,
 "nbformat_minor": 5
}
